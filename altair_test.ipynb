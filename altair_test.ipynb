{
 "cells": [
  {
   "cell_type": "code",
   "execution_count": 7,
   "metadata": {},
   "outputs": [
    {
     "data": {
      "text/html": [
       "<div>\n",
       "<style scoped>\n",
       "    .dataframe tbody tr th:only-of-type {\n",
       "        vertical-align: middle;\n",
       "    }\n",
       "\n",
       "    .dataframe tbody tr th {\n",
       "        vertical-align: top;\n",
       "    }\n",
       "\n",
       "    .dataframe thead th {\n",
       "        text-align: right;\n",
       "    }\n",
       "</style>\n",
       "<table border=\"1\" class=\"dataframe\">\n",
       "  <thead>\n",
       "    <tr style=\"text-align: right;\">\n",
       "      <th></th>\n",
       "      <th>id</th>\n",
       "      <th>schluessel</th>\n",
       "      <th>gen</th>\n",
       "      <th>jahr</th>\n",
       "      <th>ai1601</th>\n",
       "      <th>geometry</th>\n",
       "    </tr>\n",
       "  </thead>\n",
       "  <tbody>\n",
       "    <tr>\n",
       "      <th>0</th>\n",
       "      <td>454375</td>\n",
       "      <td>05911</td>\n",
       "      <td>Bochum</td>\n",
       "      <td>2020</td>\n",
       "      <td>21152</td>\n",
       "      <td>POLYGON ((7.29531 51.53141, 7.29359 51.53226, ...</td>\n",
       "    </tr>\n",
       "    <tr>\n",
       "      <th>1</th>\n",
       "      <td>454379</td>\n",
       "      <td>05916</td>\n",
       "      <td>Herne</td>\n",
       "      <td>2020</td>\n",
       "      <td>18826</td>\n",
       "      <td>POLYGON ((7.24968 51.56589, 7.24811 51.56630, ...</td>\n",
       "    </tr>\n",
       "    <tr>\n",
       "      <th>2</th>\n",
       "      <td>454380</td>\n",
       "      <td>05954</td>\n",
       "      <td>Ennepe-Ruhr-Kreis</td>\n",
       "      <td>2020</td>\n",
       "      <td>25015</td>\n",
       "      <td>POLYGON ((7.35416 51.48386, 7.35142 51.48363, ...</td>\n",
       "    </tr>\n",
       "    <tr>\n",
       "      <th>3</th>\n",
       "      <td>454381</td>\n",
       "      <td>05958</td>\n",
       "      <td>Hochsauerlandkreis</td>\n",
       "      <td>2020</td>\n",
       "      <td>25305</td>\n",
       "      <td>POLYGON ((8.85273 51.54798, 8.85215 51.54859, ...</td>\n",
       "    </tr>\n",
       "    <tr>\n",
       "      <th>4</th>\n",
       "      <td>454382</td>\n",
       "      <td>05962</td>\n",
       "      <td>Märkischer Kreis</td>\n",
       "      <td>2020</td>\n",
       "      <td>25025</td>\n",
       "      <td>POLYGON ((7.83763 51.47853, 7.83659 51.47850, ...</td>\n",
       "    </tr>\n",
       "  </tbody>\n",
       "</table>\n",
       "</div>"
      ],
      "text/plain": [
       "       id schluessel                 gen  jahr  ai1601  \\\n",
       "0  454375      05911              Bochum  2020   21152   \n",
       "1  454379      05916               Herne  2020   18826   \n",
       "2  454380      05954   Ennepe-Ruhr-Kreis  2020   25015   \n",
       "3  454381      05958  Hochsauerlandkreis  2020   25305   \n",
       "4  454382      05962    Märkischer Kreis  2020   25025   \n",
       "\n",
       "                                            geometry  \n",
       "0  POLYGON ((7.29531 51.53141, 7.29359 51.53226, ...  \n",
       "1  POLYGON ((7.24968 51.56589, 7.24811 51.56630, ...  \n",
       "2  POLYGON ((7.35416 51.48386, 7.35142 51.48363, ...  \n",
       "3  POLYGON ((8.85273 51.54798, 8.85215 51.54859, ...  \n",
       "4  POLYGON ((7.83763 51.47853, 7.83659 51.47850, ...  "
      ]
     },
     "execution_count": 7,
     "metadata": {},
     "output_type": "execute_result"
    }
   ],
   "source": [
    "import altair as alt\n",
    "import geopandas as gpd\n",
    "\n",
    "# Pfad zu Ihrer GeoJSON-Datei\n",
    "geojson_path = '/Users/lionlukasnaumann/Downloads/dland_destatis.geojson'\n",
    "\n",
    "# Laden des GeoJSON mithilfe von Geopandas\n",
    "gdf = gpd.read_file(geojson_path)\n",
    "gdf.head()\n",
    "\n",
    "\n"
   ]
  },
  {
   "cell_type": "code",
   "execution_count": 10,
   "metadata": {},
   "outputs": [],
   "source": [
    "# Konvertieren des GeoDataFrame in ein JSON-Format, das von Altair verwendet werden kann\n",
    "geojson_data = gdf"
   ]
  },
  {
   "cell_type": "code",
   "execution_count": 13,
   "metadata": {},
   "outputs": [
    {
     "ename": "SchemaValidationError",
     "evalue": "'geojson' is an invalid value for `type`. Valid values are one of ['csv', 'tsv'].\n\n'dsv' was expected\n'json' was expected\n'topojson' was expected",
     "output_type": "error",
     "traceback": [
      "\u001b[0;31m---------------------------------------------------------------------------\u001b[0m",
      "\u001b[0;31mSchemaValidationError\u001b[0m                     Traceback (most recent call last)",
      "\u001b[1;32m/Users/lionlukasnaumann/Nextcloud/Database/jupyter/altair_test.ipynb Zelle 3\u001b[0m line \u001b[0;36m2\n\u001b[1;32m      <a href='vscode-notebook-cell:/Users/lionlukasnaumann/Nextcloud/Database/jupyter/altair_test.ipynb#W1sZmlsZQ%3D%3D?line=0'>1</a>\u001b[0m geodata_la \u001b[39m=\u001b[39m alt\u001b[39m.\u001b[39mData(\n\u001b[0;32m----> <a href='vscode-notebook-cell:/Users/lionlukasnaumann/Nextcloud/Database/jupyter/altair_test.ipynb#W1sZmlsZQ%3D%3D?line=1'>2</a>\u001b[0m   url\u001b[39m=\u001b[39mgeojson_data, \u001b[39mformat\u001b[39m\u001b[39m=\u001b[39malt\u001b[39m.\u001b[39;49mDataFormat(\u001b[39mproperty\u001b[39;49m\u001b[39m=\u001b[39;49m\u001b[39m\"\u001b[39;49m\u001b[39mfeatures\u001b[39;49m\u001b[39m\"\u001b[39;49m, \u001b[39mtype\u001b[39;49m\u001b[39m=\u001b[39;49m\u001b[39m\"\u001b[39;49m\u001b[39mgeojson\u001b[39;49m\u001b[39m\"\u001b[39;49m)\n\u001b[1;32m      <a href='vscode-notebook-cell:/Users/lionlukasnaumann/Nextcloud/Database/jupyter/altair_test.ipynb#W1sZmlsZQ%3D%3D?line=2'>3</a>\u001b[0m )\n\u001b[1;32m      <a href='vscode-notebook-cell:/Users/lionlukasnaumann/Nextcloud/Database/jupyter/altair_test.ipynb#W1sZmlsZQ%3D%3D?line=3'>4</a>\u001b[0m \u001b[39m# Create an Altair chart for the GeoJSON data\u001b[39;00m\n\u001b[1;32m      <a href='vscode-notebook-cell:/Users/lionlukasnaumann/Nextcloud/Database/jupyter/altair_test.ipynb#W1sZmlsZQ%3D%3D?line=4'>5</a>\u001b[0m chart \u001b[39m=\u001b[39m alt\u001b[39m.\u001b[39mChart(geodata_la)\u001b[39m.\u001b[39mmark_geoshape(\n\u001b[1;32m      <a href='vscode-notebook-cell:/Users/lionlukasnaumann/Nextcloud/Database/jupyter/altair_test.ipynb#W1sZmlsZQ%3D%3D?line=5'>6</a>\u001b[0m     fill\u001b[39m=\u001b[39m\u001b[39m'\u001b[39m\u001b[39mlightblue\u001b[39m\u001b[39m'\u001b[39m,  \u001b[39m# Füllfarbe\u001b[39;00m\n\u001b[1;32m      <a href='vscode-notebook-cell:/Users/lionlukasnaumann/Nextcloud/Database/jupyter/altair_test.ipynb#W1sZmlsZQ%3D%3D?line=6'>7</a>\u001b[0m     stroke\u001b[39m=\u001b[39m\u001b[39m'\u001b[39m\u001b[39mdarkblue\u001b[39m\u001b[39m'\u001b[39m,  \u001b[39m# Umrandungsfarbe\u001b[39;00m\n\u001b[0;32m   (...)\u001b[0m\n\u001b[1;32m     <a href='vscode-notebook-cell:/Users/lionlukasnaumann/Nextcloud/Database/jupyter/altair_test.ipynb#W1sZmlsZQ%3D%3D?line=10'>11</a>\u001b[0m     height\u001b[39m=\u001b[39m\u001b[39m300\u001b[39m  \u001b[39m# Adjust the height as needed\u001b[39;00m\n\u001b[1;32m     <a href='vscode-notebook-cell:/Users/lionlukasnaumann/Nextcloud/Database/jupyter/altair_test.ipynb#W1sZmlsZQ%3D%3D?line=11'>12</a>\u001b[0m )\n",
      "File \u001b[0;32m~/anaconda3/envs/streamlit/lib/python3.11/site-packages/altair/vegalite/v5/schema/core.py:4221\u001b[0m, in \u001b[0;36mDataFormat.__init__\u001b[0;34m(self, *args, **kwds)\u001b[0m\n\u001b[1;32m   4220\u001b[0m \u001b[39mdef\u001b[39;00m \u001b[39m__init__\u001b[39m(\u001b[39mself\u001b[39m, \u001b[39m*\u001b[39margs, \u001b[39m*\u001b[39m\u001b[39m*\u001b[39mkwds):\n\u001b[0;32m-> 4221\u001b[0m     \u001b[39msuper\u001b[39;49m(DataFormat, \u001b[39mself\u001b[39;49m)\u001b[39m.\u001b[39;49m\u001b[39m__init__\u001b[39;49m(\u001b[39m*\u001b[39;49margs, \u001b[39m*\u001b[39;49m\u001b[39m*\u001b[39;49mkwds)\n",
      "File \u001b[0;32m~/anaconda3/envs/streamlit/lib/python3.11/site-packages/altair/utils/schemapi.py:776\u001b[0m, in \u001b[0;36mSchemaBase.__init__\u001b[0;34m(self, *args, **kwds)\u001b[0m\n\u001b[1;32m    773\u001b[0m \u001b[39mobject\u001b[39m\u001b[39m.\u001b[39m\u001b[39m__setattr__\u001b[39m(\u001b[39mself\u001b[39m, \u001b[39m\"\u001b[39m\u001b[39m_kwds\u001b[39m\u001b[39m\"\u001b[39m, kwds)\n\u001b[1;32m    775\u001b[0m \u001b[39mif\u001b[39;00m DEBUG_MODE \u001b[39mand\u001b[39;00m \u001b[39mself\u001b[39m\u001b[39m.\u001b[39m_class_is_valid_at_instantiation:\n\u001b[0;32m--> 776\u001b[0m     \u001b[39mself\u001b[39;49m\u001b[39m.\u001b[39;49mto_dict(validate\u001b[39m=\u001b[39;49m\u001b[39mTrue\u001b[39;49;00m)\n",
      "File \u001b[0;32m~/anaconda3/envs/streamlit/lib/python3.11/site-packages/altair/utils/schemapi.py:983\u001b[0m, in \u001b[0;36mSchemaBase.to_dict\u001b[0;34m(self, validate, ignore, context)\u001b[0m\n\u001b[1;32m    976\u001b[0m         \u001b[39mself\u001b[39m\u001b[39m.\u001b[39mvalidate(result)\n\u001b[1;32m    977\u001b[0m     \u001b[39mexcept\u001b[39;00m jsonschema\u001b[39m.\u001b[39mValidationError \u001b[39mas\u001b[39;00m err:\n\u001b[1;32m    978\u001b[0m         \u001b[39m# We do not raise `from err` as else the resulting\u001b[39;00m\n\u001b[1;32m    979\u001b[0m         \u001b[39m# traceback is very long as it contains part\u001b[39;00m\n\u001b[1;32m    980\u001b[0m         \u001b[39m# of the Vega-Lite schema. It would also first\u001b[39;00m\n\u001b[1;32m    981\u001b[0m         \u001b[39m# show the less helpful ValidationError instead of\u001b[39;00m\n\u001b[1;32m    982\u001b[0m         \u001b[39m# the more user friendly SchemaValidationError\u001b[39;00m\n\u001b[0;32m--> 983\u001b[0m         \u001b[39mraise\u001b[39;00m SchemaValidationError(\u001b[39mself\u001b[39m, err) \u001b[39mfrom\u001b[39;00m \u001b[39mNone\u001b[39;00m\n\u001b[1;32m    984\u001b[0m \u001b[39mreturn\u001b[39;00m result\n",
      "\u001b[0;31mSchemaValidationError\u001b[0m: 'geojson' is an invalid value for `type`. Valid values are one of ['csv', 'tsv'].\n\n'dsv' was expected\n'json' was expected\n'topojson' was expected"
     ]
    }
   ],
   "source": [
    "geodata_la = alt.Data(\n",
    "  url=geojson_data, format=alt.DataFormat(property=\"features\", type=\"geojson\")\n",
    ")\n",
    "# Create an Altair chart for the GeoJSON data\n",
    "chart = alt.Chart(geodata_la).mark_geoshape(\n",
    "    fill='lightblue',  # Füllfarbe\n",
    "    stroke='darkblue',  # Umrandungsfarbe\n",
    "    strokeWidth=1      # Umrandungsbreite\n",
    ").properties(\n",
    "    width=500,  # Adjust the width as needed\n",
    "    height=300  # Adjust the height as needed\n",
    ")\n",
    "\n",
    "# Display the chart in Streamlit\n",
    "chart.display()"
   ]
  }
 ],
 "metadata": {
  "kernelspec": {
   "display_name": "streamlit",
   "language": "python",
   "name": "python3"
  },
  "language_info": {
   "codemirror_mode": {
    "name": "ipython",
    "version": 3
   },
   "file_extension": ".py",
   "mimetype": "text/x-python",
   "name": "python",
   "nbconvert_exporter": "python",
   "pygments_lexer": "ipython3",
   "version": "3.11.6"
  }
 },
 "nbformat": 4,
 "nbformat_minor": 2
}
